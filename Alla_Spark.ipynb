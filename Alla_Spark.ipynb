{
 "cells": [
  {
   "cell_type": "code",
   "execution_count": 1,
   "id": "caba79cc",
   "metadata": {},
   "outputs": [
    {
     "name": "stdout",
     "output_type": "stream",
     "text": [
      "Requirement already satisfied: pyspark in c:\\users\\adithya\\anaconda3\\lib\\site-packages (3.5.0)\n",
      "Requirement already satisfied: py4j==0.10.9.7 in c:\\users\\adithya\\anaconda3\\lib\\site-packages (from pyspark) (0.10.9.7)\n",
      "Note: you may need to restart the kernel to use updated packages.\n"
     ]
    },
    {
     "name": "stderr",
     "output_type": "stream",
     "text": [
      "\n",
      "[notice] A new release of pip is available: 23.1.2 -> 23.3.1\n",
      "[notice] To update, run: python.exe -m pip install --upgrade pip\n"
     ]
    }
   ],
   "source": [
    "pip install pyspark"
   ]
  },
  {
   "cell_type": "code",
   "execution_count": 2,
   "id": "7c121c0b",
   "metadata": {
    "scrolled": true
   },
   "outputs": [
    {
     "name": "stdout",
     "output_type": "stream",
     "text": [
      "Requirement already satisfied: findspark in c:\\users\\adithya\\anaconda3\\lib\\site-packages (2.0.1)\n",
      "Note: you may need to restart the kernel to use updated packages.\n"
     ]
    },
    {
     "name": "stderr",
     "output_type": "stream",
     "text": [
      "\n",
      "[notice] A new release of pip is available: 23.1.2 -> 23.3.1\n",
      "[notice] To update, run: python.exe -m pip install --upgrade pip\n"
     ]
    }
   ],
   "source": [
    "pip install findspark\n"
   ]
  },
  {
   "cell_type": "code",
   "execution_count": 48,
   "id": "f1ffc2d5",
   "metadata": {},
   "outputs": [],
   "source": [
    "import findspark\n",
    "from pyspark import SparkContext\n",
    "from pyspark.sql import SparkSession, Window, Row\n",
    "from pyspark.sql.functions import *\n",
    "from pyspark.sql.types import *\n",
    "import matplotlib.pyplot as plt"
   ]
  },
  {
   "cell_type": "code",
   "execution_count": 49,
   "id": "39e0667e",
   "metadata": {},
   "outputs": [],
   "source": [
    "import pandas as pd"
   ]
  },
  {
   "cell_type": "markdown",
   "id": "bc6c360d",
   "metadata": {},
   "source": [
    "<h1>creating aspark session"
   ]
  },
  {
   "cell_type": "code",
   "execution_count": 50,
   "id": "26cdeb2d",
   "metadata": {},
   "outputs": [],
   "source": [
    "spark = SparkSession \\\n",
    "        .builder \\\n",
    "        .appName(\"adiSpark\") \\\n",
    "        .getOrCreate()"
   ]
  },
  {
   "cell_type": "markdown",
   "id": "83945de0",
   "metadata": {},
   "source": [
    "<h1>loading the data"
   ]
  },
  {
   "cell_type": "code",
   "execution_count": 51,
   "id": "dfaf36bb",
   "metadata": {},
   "outputs": [],
   "source": [
    "df1=spark.read.csv('Crimes_-_2001_to_Present.csv',inferSchema=True,header=True)"
   ]
  },
  {
   "cell_type": "code",
   "execution_count": 52,
   "id": "60476e65",
   "metadata": {},
   "outputs": [
    {
     "name": "stdout",
     "output_type": "stream",
     "text": [
      "+--------+-----------+--------------------+--------------------+----+--------------------+--------------------+--------------------+------+--------+----+--------+----+--------------+--------+------------+------------+----+--------------------+------------+-------------+--------------------+\n",
      "|      ID|Case Number|                Date|               Block|IUCR|        Primary Type|         Description|Location Description|Arrest|Domestic|Beat|District|Ward|Community Area|FBI Code|X Coordinate|Y Coordinate|Year|          Updated On|    Latitude|    Longitude|            Location|\n",
      "+--------+-----------+--------------------+--------------------+----+--------------------+--------------------+--------------------+------+--------+----+--------+----+--------------+--------+------------+------------+----+--------------------+------------+-------------+--------------------+\n",
      "| 5741943|   HN549294|08/25/2007 09:22:...|  074XX N ROGERS AVE|0560|             ASSAULT|              SIMPLE|               OTHER| false|   false|2422|      24|  49|             1|     08A|        NULL|        NULL|2007|08/17/2015 03:03:...|        NULL|         NULL|                NULL|\n",
      "| 1930689|   HH109118|01/05/2002 09:24:...|      007XX E 103 ST|0820|               THEFT|      $500 AND UNDER|         GAS STATION|  true|   false| 512|       5|NULL|          NULL|      06|        NULL|        NULL|2002|02/04/2016 06:33:...|        NULL|         NULL|                NULL|\n",
      "|13203321|   JG415333|09/06/2023 05:00:...|    002XX N Wells st|1320|     CRIMINAL DAMAGE|          TO VEHICLE|PARKING LOT / GAR...| false|   false| 122|       1|  42|            32|      14|        NULL|        NULL|2023|09/14/2023 03:43:...|        NULL|         NULL|                NULL|\n",
      "|13210088|   JG423627|08/31/2023 12:00:...|023XX W JACKSON BLVD|1153|  DECEPTIVE PRACTICE|FINANCIAL IDENTIT...|              STREET| false|   false|1225|      12|  27|            28|      11|     1160870|     1898642|2023|09/16/2023 03:41:...|41.877565108| -87.68479102|(41.877565108, -8...|\n",
      "|13210004|   JG422532|07/24/2023 09:45:...|073XX S JEFFERY BLVD|0281|CRIMINAL SEXUAL A...|      NON-AGGRAVATED|           APARTMENT| false|   false| 333|       3|   7|            43|      02|     1190812|     1856743|2023|09/16/2023 03:41:...|  41.7619185|-87.576209245|(41.7619185, -87....|\n",
      "+--------+-----------+--------------------+--------------------+----+--------------------+--------------------+--------------------+------+--------+----+--------+----+--------------+--------+------------+------------+----+--------------------+------------+-------------+--------------------+\n",
      "\n"
     ]
    }
   ],
   "source": [
    "df1.limit(5).show()"
   ]
  },
  {
   "cell_type": "markdown",
   "id": "cbec32a1",
   "metadata": {},
   "source": [
    "<h1>1schema display"
   ]
  },
  {
   "cell_type": "code",
   "execution_count": 53,
   "id": "4ed0c486",
   "metadata": {},
   "outputs": [
    {
     "name": "stdout",
     "output_type": "stream",
     "text": [
      "root\n",
      " |-- ID: integer (nullable = true)\n",
      " |-- Case Number: string (nullable = true)\n",
      " |-- Date: string (nullable = true)\n",
      " |-- Block: string (nullable = true)\n",
      " |-- IUCR: string (nullable = true)\n",
      " |-- Primary Type: string (nullable = true)\n",
      " |-- Description: string (nullable = true)\n",
      " |-- Location Description: string (nullable = true)\n",
      " |-- Arrest: boolean (nullable = true)\n",
      " |-- Domestic: boolean (nullable = true)\n",
      " |-- Beat: integer (nullable = true)\n",
      " |-- District: integer (nullable = true)\n",
      " |-- Ward: integer (nullable = true)\n",
      " |-- Community Area: integer (nullable = true)\n",
      " |-- FBI Code: string (nullable = true)\n",
      " |-- X Coordinate: integer (nullable = true)\n",
      " |-- Y Coordinate: integer (nullable = true)\n",
      " |-- Year: integer (nullable = true)\n",
      " |-- Updated On: string (nullable = true)\n",
      " |-- Latitude: double (nullable = true)\n",
      " |-- Longitude: double (nullable = true)\n",
      " |-- Location: string (nullable = true)\n",
      "\n"
     ]
    }
   ],
   "source": [
    "df1.printSchema()"
   ]
  },
  {
   "cell_type": "markdown",
   "id": "286bae4d",
   "metadata": {},
   "source": [
    "<h1>Finding the number of null values in columns of dataframe"
   ]
  },
  {
   "cell_type": "code",
   "execution_count": 54,
   "id": "8b790fa9",
   "metadata": {},
   "outputs": [
    {
     "name": "stdout",
     "output_type": "stream",
     "text": [
      "Location Description  :  11937\n",
      "District  :  47\n",
      "Ward  :  614849\n",
      "Community Area  :  613476\n",
      "X Coordinate  :  90138\n",
      "Y Coordinate  :  90138\n",
      "Latitude  :  90138\n",
      "Longitude  :  90138\n",
      "Location  :  90138\n"
     ]
    }
   ],
   "source": [
    "\n",
    "\n",
    "\n",
    "for x in df1.columns:\n",
    "    c=df1.filter(col(x).isNull()).count()\n",
    "    if c>0:\n",
    "        print(x,\" : \",c)\n",
    "        c=0"
   ]
  },
  {
   "cell_type": "markdown",
   "id": "1f1c2efc",
   "metadata": {},
   "source": [
    "<h1>dataframe after dropping the null values"
   ]
  },
  {
   "cell_type": "code",
   "execution_count": 55,
   "id": "b17c4951",
   "metadata": {},
   "outputs": [
    {
     "data": {
      "text/plain": [
       "7214526"
      ]
     },
     "execution_count": 55,
     "metadata": {},
     "output_type": "execute_result"
    }
   ],
   "source": [
    "noNulldf=df1.dropna('any')\n",
    "noNulldf.count()"
   ]
  },
  {
   "cell_type": "code",
   "execution_count": 56,
   "id": "7be3ec46",
   "metadata": {},
   "outputs": [
    {
     "name": "stdout",
     "output_type": "stream",
     "text": [
      "+--------+-----------+--------------------+--------------------+----+--------------------+--------------------+--------------------+------+--------+----+--------+----+--------------+--------+------------+------------+----+--------------------+------------+-------------+--------------------+\n",
      "|      ID|Case Number|                Date|               Block|IUCR|        Primary Type|         Description|Location Description|Arrest|Domestic|Beat|District|Ward|Community Area|FBI Code|X Coordinate|Y Coordinate|Year|          Updated On|    Latitude|    Longitude|            Location|\n",
      "+--------+-----------+--------------------+--------------------+----+--------------------+--------------------+--------------------+------+--------+----+--------+----+--------------+--------+------------+------------+----+--------------------+------------+-------------+--------------------+\n",
      "|13210088|   JG423627|08/31/2023 12:00:...|023XX W JACKSON BLVD|1153|  DECEPTIVE PRACTICE|FINANCIAL IDENTIT...|              STREET| false|   false|1225|      12|  27|            28|      11|     1160870|     1898642|2023|09/16/2023 03:41:...|41.877565108| -87.68479102|(41.877565108, -8...|\n",
      "|13210004|   JG422532|07/24/2023 09:45:...|073XX S JEFFERY BLVD|0281|CRIMINAL SEXUAL A...|      NON-AGGRAVATED|           APARTMENT| false|   false| 333|       3|   7|            43|      02|     1190812|     1856743|2023|09/16/2023 03:41:...|  41.7619185|-87.576209245|(41.7619185, -87....|\n",
      "|13210062|   JG423596|08/27/2023 07:00:...|034XX N LAWNDALE AVE|0820|               THEFT|      $500 AND UNDER|           APARTMENT| false|   false|1732|      17|  30|            21|      06|     1151117|     1922554|2023|09/16/2023 03:41:...|41.943378528|  -87.7199738|(41.943378528, -8...|\n",
      "|13210107|   JG411849|09/04/2023 09:30:...|   053XX S HOMAN AVE|1310|     CRIMINAL DAMAGE|         TO PROPERTY|  RESIDENCE - GARAGE| false|   false| 822|       8|  14|            63|      14|     1154617|     1869046|2023|09/16/2023 03:41:...|41.796477414|-87.708540915|(41.796477414, -8...|\n",
      "|13210060|   JG423567|08/15/2023 02:20:...|077XX S SPAULDING...|0810|               THEFT|           OVER $500|RESIDENCE - PORCH...| false|   false| 835|       8|  18|            70|      06|     1155724|     1853097|2023|09/16/2023 03:41:...|41.752688801|-87.704908791|(41.752688801, -8...|\n",
      "|13210120|   JG423499|07/24/2023 04:09:...|     002XX W 75TH ST|1120|  DECEPTIVE PRACTICE|             FORGERY|   CURRENCY EXCHANGE| false|   false| 731|       7|   6|            69|      10|     1175716|     1855233|2023|09/16/2023 03:41:...|41.758126171|-87.631582508|(41.758126171, -8...|\n",
      "|13210071|   JG421086|09/03/2023 10:27:...|   089XX S LOOMIS ST|0890|               THEFT|       FROM BUILDING|           APARTMENT| false|   false|2222|      22|  21|            73|      06|     1168564|     1845472|2023|09/16/2023 03:41:...|41.731497731|-87.658074565|(41.731497731, -8...|\n",
      "|13210035|   JG422370|08/17/2023 07:00:...|     019XX W 71ST ST|0820|               THEFT|      $500 AND UNDER|              STREET| false|   false| 735|       7|  17|            67|      06|     1164749|     1857588|2023|09/16/2023 03:41:...|41.764827083|-87.671709119|(41.764827083, -8...|\n",
      "|13210008|   JG422517|08/24/2023 02:27:...|  031XX S WALLACE ST|1110|  DECEPTIVE PRACTICE|         BOGUS CHECK|   CURRENCY EXCHANGE| false|   false| 915|       9|  11|            60|      11|     1172803|     1884190|2023|09/16/2023 03:41:...|41.837651929|-87.641404086|(41.837651929, -8...|\n",
      "|13210072|   JG422242|08/11/2023 11:00:...|  0000X S ALBANY AVE|1790|OFFENSE INVOLVING...|     CHILD ABDUCTION|           RESIDENCE| false|    true|1124|      11|  28|            27|      26|     1155914|     1899709|2023|09/16/2023 03:41:...|41.880594385|-87.702959421|(41.880594385, -8...|\n",
      "|11662417|   JC232642|04/21/2019 12:30:...|     009XX E 80TH ST|031A|             ROBBERY|     ARMED - HANDGUN|           RESIDENCE| false|   false| 631|       6|   8|            44|      03|     1184044|     1852159|2019|09/14/2023 03:41:...|41.749500329|  -87.6011574|(41.749500329, -8...|\n",
      "|12218064|   JD426642|10/30/2020 04:30:...|     011XX E 82ND ST|0266|CRIMINAL SEXUAL A...|           PREDATORY|           RESIDENCE|  true|    true| 411|       4|   8|            45|      02|     1185144|     1850850|2020|09/14/2023 03:41:...|41.745882542|-87.597167639|(41.745882542, -8...|\n",
      "|12342615|   JE202211|04/17/2021 03:20:...| 081XX S PRAIRIE AVE|0325|             ROBBERY| VEHICULAR HIJACKING|           RESIDENCE|  true|   false| 631|       6|   6|            44|      03|     1179448|     1851073|2021|09/14/2023 03:41:...|41.746626309|-87.618031954|(41.746626309, -8...|\n",
      "|12589893|   JF109865|01/11/2022 03:00:...|087XX S KINGSTON AVE|1565|         SEX OFFENSE|INDECENT SOLICITA...|           RESIDENCE| false|    true| 423|       4|   7|            46|      17|     1194660|     1847481|2022|09/14/2023 03:41:...|41.736409029|-87.562410309|(41.736409029, -8...|\n",
      "|12592454|   JF113025|01/14/2022 03:55:...|   067XX S MORGAN ST|2826|       OTHER OFFENSE|HARASSMENT BY ELE...|           RESIDENCE| false|    true| 724|       7|  16|            68|      26|     1170805|     1860170|2022|09/14/2023 03:41:...|41.771782439|-87.649436929|(41.771782439, -8...|\n",
      "|12601676|   JF124024|01/13/2022 04:00:...|031XX W AUGUSTA BLVD|1752|OFFENSE INVOLVING...|AGGRAVATED CRIMIN...|           RESIDENCE| false|    true|1211|      12|  36|            23|      17|     1155171|     1906486|2022|09/14/2023 03:41:...|41.899206068|-87.705505587|(41.899206068, -8...|\n",
      "|12785595|   JF346553|08/05/2022 09:00:...|072XX S UNIVERSIT...|1544|         SEX OFFENSE|SEXUAL EXPLOITATI...|           APARTMENT|  true|   false| 324|       3|   5|            69|      17|     1185135|     1857211|2022|09/14/2023 03:41:...|41.763337967|-87.597001131|(41.763337967, -8...|\n",
      "|12808281|   JF373517|08/14/2022 02:00:...| 055XX W ARDMORE AVE|1562|         SEX OFFENSE|AGGRAVATED CRIMIN...|           RESIDENCE| false|   false|1621|      16|  39|            11|      17|     1138383|     1937953|2022|09/14/2023 03:41:...|41.985875279|-87.766403857|(41.985875279, -8...|\n",
      "|12888104|   JF469015|11/10/2022 03:47:...|      072XX S MAY ST|1477|   WEAPONS VIOLATION|RECKLESS FIREARM ...|              STREET| false|   false| 733|       7|  17|            68|      15|     1169903|     1856822|2022|09/14/2023 03:41:...| 41.76261474|-87.652840463|(41.76261474, -87...|\n",
      "|12990873|   JG161829|08/17/2019 01:14:...|  008XX N KARLOV AVE|1751|OFFENSE INVOLVING...|CRIMINAL SEXUAL A...|           RESIDENCE|  true|    true|1111|      11|  37|            23|      17|     1148899|     1905351|2019|09/14/2023 03:41:...| 41.89621515|-87.728572048|(41.89621515, -87...|\n",
      "+--------+-----------+--------------------+--------------------+----+--------------------+--------------------+--------------------+------+--------+----+--------+----+--------------+--------+------------+------------+----+--------------------+------------+-------------+--------------------+\n",
      "only showing top 20 rows\n",
      "\n"
     ]
    }
   ],
   "source": [
    "noNulldf.show()"
   ]
  },
  {
   "cell_type": "markdown",
   "id": "c2c30a8b",
   "metadata": {},
   "source": [
    "<h1> Changing the datatype of Date "
   ]
  },
  {
   "cell_type": "code",
   "execution_count": null,
   "id": "0b7dc24b",
   "metadata": {},
   "outputs": [],
   "source": []
  },
  {
   "cell_type": "code",
   "execution_count": 57,
   "id": "7b1e0109",
   "metadata": {},
   "outputs": [
    {
     "data": {
      "text/plain": [
       "DataFrame[ID: int, Case Number: string, Date: date, Block: string, IUCR: string, Primary Type: string, Description: string, Location Description: string, Arrest: boolean, Domestic: boolean, Beat: int, District: int, Ward: int, Community Area: int, FBI Code: string, X Coordinate: int, Y Coordinate: int, Year: int, Updated On: string, Latitude: double, Longitude: double, Location: string]"
      ]
     },
     "metadata": {},
     "output_type": "display_data"
    }
   ],
   "source": [
    "dff=noNulldf.withColumn(\"Date\", to_date(col(\"Date\"), \"MM/dd/yyyy hh:mm:ss a\"))\n",
    "\n",
    "display(dff)"
   ]
  },
  {
   "cell_type": "code",
   "execution_count": 58,
   "id": "7613ac9a",
   "metadata": {},
   "outputs": [
    {
     "name": "stdout",
     "output_type": "stream",
     "text": [
      "+--------+-----------+----------+--------------------+----+--------------------+--------------------+--------------------+------+--------+----+--------+----+--------------+--------+------------+------------+----+--------------------+------------+-------------+--------------------+\n",
      "|      ID|Case Number|      Date|               Block|IUCR|        Primary Type|         Description|Location Description|Arrest|Domestic|Beat|District|Ward|Community Area|FBI Code|X Coordinate|Y Coordinate|Year|          Updated On|    Latitude|    Longitude|            Location|\n",
      "+--------+-----------+----------+--------------------+----+--------------------+--------------------+--------------------+------+--------+----+--------+----+--------------+--------+------------+------------+----+--------------------+------------+-------------+--------------------+\n",
      "|13210088|   JG423627|2023-08-31|023XX W JACKSON BLVD|1153|  DECEPTIVE PRACTICE|FINANCIAL IDENTIT...|              STREET| false|   false|1225|      12|  27|            28|      11|     1160870|     1898642|2023|09/16/2023 03:41:...|41.877565108| -87.68479102|(41.877565108, -8...|\n",
      "|13210004|   JG422532|2023-07-24|073XX S JEFFERY BLVD|0281|CRIMINAL SEXUAL A...|      NON-AGGRAVATED|           APARTMENT| false|   false| 333|       3|   7|            43|      02|     1190812|     1856743|2023|09/16/2023 03:41:...|  41.7619185|-87.576209245|(41.7619185, -87....|\n",
      "|13210062|   JG423596|2023-08-27|034XX N LAWNDALE AVE|0820|               THEFT|      $500 AND UNDER|           APARTMENT| false|   false|1732|      17|  30|            21|      06|     1151117|     1922554|2023|09/16/2023 03:41:...|41.943378528|  -87.7199738|(41.943378528, -8...|\n",
      "|13210107|   JG411849|2023-09-04|   053XX S HOMAN AVE|1310|     CRIMINAL DAMAGE|         TO PROPERTY|  RESIDENCE - GARAGE| false|   false| 822|       8|  14|            63|      14|     1154617|     1869046|2023|09/16/2023 03:41:...|41.796477414|-87.708540915|(41.796477414, -8...|\n",
      "|13210060|   JG423567|2023-08-15|077XX S SPAULDING...|0810|               THEFT|           OVER $500|RESIDENCE - PORCH...| false|   false| 835|       8|  18|            70|      06|     1155724|     1853097|2023|09/16/2023 03:41:...|41.752688801|-87.704908791|(41.752688801, -8...|\n",
      "|13210120|   JG423499|2023-07-24|     002XX W 75TH ST|1120|  DECEPTIVE PRACTICE|             FORGERY|   CURRENCY EXCHANGE| false|   false| 731|       7|   6|            69|      10|     1175716|     1855233|2023|09/16/2023 03:41:...|41.758126171|-87.631582508|(41.758126171, -8...|\n",
      "|13210071|   JG421086|2023-09-03|   089XX S LOOMIS ST|0890|               THEFT|       FROM BUILDING|           APARTMENT| false|   false|2222|      22|  21|            73|      06|     1168564|     1845472|2023|09/16/2023 03:41:...|41.731497731|-87.658074565|(41.731497731, -8...|\n",
      "|13210035|   JG422370|2023-08-17|     019XX W 71ST ST|0820|               THEFT|      $500 AND UNDER|              STREET| false|   false| 735|       7|  17|            67|      06|     1164749|     1857588|2023|09/16/2023 03:41:...|41.764827083|-87.671709119|(41.764827083, -8...|\n",
      "|13210008|   JG422517|2023-08-24|  031XX S WALLACE ST|1110|  DECEPTIVE PRACTICE|         BOGUS CHECK|   CURRENCY EXCHANGE| false|   false| 915|       9|  11|            60|      11|     1172803|     1884190|2023|09/16/2023 03:41:...|41.837651929|-87.641404086|(41.837651929, -8...|\n",
      "|13210072|   JG422242|2023-08-11|  0000X S ALBANY AVE|1790|OFFENSE INVOLVING...|     CHILD ABDUCTION|           RESIDENCE| false|    true|1124|      11|  28|            27|      26|     1155914|     1899709|2023|09/16/2023 03:41:...|41.880594385|-87.702959421|(41.880594385, -8...|\n",
      "|11662417|   JC232642|2019-04-21|     009XX E 80TH ST|031A|             ROBBERY|     ARMED - HANDGUN|           RESIDENCE| false|   false| 631|       6|   8|            44|      03|     1184044|     1852159|2019|09/14/2023 03:41:...|41.749500329|  -87.6011574|(41.749500329, -8...|\n",
      "|12218064|   JD426642|2020-10-30|     011XX E 82ND ST|0266|CRIMINAL SEXUAL A...|           PREDATORY|           RESIDENCE|  true|    true| 411|       4|   8|            45|      02|     1185144|     1850850|2020|09/14/2023 03:41:...|41.745882542|-87.597167639|(41.745882542, -8...|\n",
      "|12342615|   JE202211|2021-04-17| 081XX S PRAIRIE AVE|0325|             ROBBERY| VEHICULAR HIJACKING|           RESIDENCE|  true|   false| 631|       6|   6|            44|      03|     1179448|     1851073|2021|09/14/2023 03:41:...|41.746626309|-87.618031954|(41.746626309, -8...|\n",
      "|12589893|   JF109865|2022-01-11|087XX S KINGSTON AVE|1565|         SEX OFFENSE|INDECENT SOLICITA...|           RESIDENCE| false|    true| 423|       4|   7|            46|      17|     1194660|     1847481|2022|09/14/2023 03:41:...|41.736409029|-87.562410309|(41.736409029, -8...|\n",
      "|12592454|   JF113025|2022-01-14|   067XX S MORGAN ST|2826|       OTHER OFFENSE|HARASSMENT BY ELE...|           RESIDENCE| false|    true| 724|       7|  16|            68|      26|     1170805|     1860170|2022|09/14/2023 03:41:...|41.771782439|-87.649436929|(41.771782439, -8...|\n",
      "|12601676|   JF124024|2022-01-13|031XX W AUGUSTA BLVD|1752|OFFENSE INVOLVING...|AGGRAVATED CRIMIN...|           RESIDENCE| false|    true|1211|      12|  36|            23|      17|     1155171|     1906486|2022|09/14/2023 03:41:...|41.899206068|-87.705505587|(41.899206068, -8...|\n",
      "|12785595|   JF346553|2022-08-05|072XX S UNIVERSIT...|1544|         SEX OFFENSE|SEXUAL EXPLOITATI...|           APARTMENT|  true|   false| 324|       3|   5|            69|      17|     1185135|     1857211|2022|09/14/2023 03:41:...|41.763337967|-87.597001131|(41.763337967, -8...|\n",
      "|12808281|   JF373517|2022-08-14| 055XX W ARDMORE AVE|1562|         SEX OFFENSE|AGGRAVATED CRIMIN...|           RESIDENCE| false|   false|1621|      16|  39|            11|      17|     1138383|     1937953|2022|09/14/2023 03:41:...|41.985875279|-87.766403857|(41.985875279, -8...|\n",
      "|12888104|   JF469015|2022-11-10|      072XX S MAY ST|1477|   WEAPONS VIOLATION|RECKLESS FIREARM ...|              STREET| false|   false| 733|       7|  17|            68|      15|     1169903|     1856822|2022|09/14/2023 03:41:...| 41.76261474|-87.652840463|(41.76261474, -87...|\n",
      "|12990873|   JG161829|2019-08-17|  008XX N KARLOV AVE|1751|OFFENSE INVOLVING...|CRIMINAL SEXUAL A...|           RESIDENCE|  true|    true|1111|      11|  37|            23|      17|     1148899|     1905351|2019|09/14/2023 03:41:...| 41.89621515|-87.728572048|(41.89621515, -87...|\n",
      "+--------+-----------+----------+--------------------+----+--------------------+--------------------+--------------------+------+--------+----+--------+----+--------------+--------+------------+------------+----+--------------------+------------+-------------+--------------------+\n",
      "only showing top 20 rows\n",
      "\n"
     ]
    }
   ],
   "source": [
    "dff.show()"
   ]
  },
  {
   "cell_type": "markdown",
   "id": "fdd96be1",
   "metadata": {},
   "source": [
    "<h1> filtering last 10 years data of crime"
   ]
  },
  {
   "cell_type": "code",
   "execution_count": 59,
   "id": "3796a0ba",
   "metadata": {},
   "outputs": [],
   "source": [
    "df2=dff.filter('Year>=2013')"
   ]
  },
  {
   "cell_type": "code",
   "execution_count": 60,
   "id": "41571a08",
   "metadata": {},
   "outputs": [
    {
     "data": {
      "text/plain": [
       "2734339"
      ]
     },
     "execution_count": 60,
     "metadata": {},
     "output_type": "execute_result"
    }
   ],
   "source": [
    "df2.count()"
   ]
  },
  {
   "cell_type": "markdown",
   "id": "2efc6d7d",
   "metadata": {},
   "source": [
    "<h1>finding all the types of crime"
   ]
  },
  {
   "cell_type": "code",
   "execution_count": 61,
   "id": "80028edd",
   "metadata": {},
   "outputs": [
    {
     "name": "stdout",
     "output_type": "stream",
     "text": [
      "+--------------------+\n",
      "|        Primary Type|\n",
      "+--------------------+\n",
      "|OFFENSE INVOLVING...|\n",
      "|CRIMINAL SEXUAL A...|\n",
      "|            STALKING|\n",
      "|PUBLIC PEACE VIOL...|\n",
      "|           OBSCENITY|\n",
      "|               ARSON|\n",
      "|            GAMBLING|\n",
      "|   CRIMINAL TRESPASS|\n",
      "|             ASSAULT|\n",
      "|LIQUOR LAW VIOLATION|\n",
      "| MOTOR VEHICLE THEFT|\n",
      "|               THEFT|\n",
      "|             BATTERY|\n",
      "|             ROBBERY|\n",
      "|            HOMICIDE|\n",
      "|   HUMAN TRAFFICKING|\n",
      "|        INTIMIDATION|\n",
      "|        PROSTITUTION|\n",
      "|  DECEPTIVE PRACTICE|\n",
      "|CONCEALED CARRY L...|\n",
      "|         SEX OFFENSE|\n",
      "|     CRIMINAL DAMAGE|\n",
      "|           NARCOTICS|\n",
      "|       OTHER OFFENSE|\n",
      "|          KIDNAPPING|\n",
      "|            BURGLARY|\n",
      "|   WEAPONS VIOLATION|\n",
      "|INTERFERENCE WITH...|\n",
      "| CRIM SEXUAL ASSAULT|\n",
      "|NON-CRIMINAL (SUB...|\n",
      "|      NON - CRIMINAL|\n",
      "|    PUBLIC INDECENCY|\n",
      "|        NON-CRIMINAL|\n",
      "|OTHER NARCOTIC VI...|\n",
      "|           RITUALISM|\n",
      "+--------------------+\n",
      "\n"
     ]
    }
   ],
   "source": [
    "z=df2.select(\"Primary Type\").distinct()\n",
    "z.show(100)"
   ]
  },
  {
   "cell_type": "markdown",
   "id": "b02e9ad1",
   "metadata": {},
   "source": [
    "<h1> removing thenon essential primary type names"
   ]
  },
  {
   "cell_type": "code",
   "execution_count": 62,
   "id": "cd95bb11",
   "metadata": {},
   "outputs": [
    {
     "name": "stdout",
     "output_type": "stream",
     "text": [
      "+--------+-----------+----------+--------------------+----+--------------------+--------------------+--------------------+------+--------+----+--------+----+--------------+--------+------------+------------+----+--------------------+------------+-------------+--------------------+\n",
      "|      ID|Case Number|      Date|               Block|IUCR|        Primary Type|         Description|Location Description|Arrest|Domestic|Beat|District|Ward|Community Area|FBI Code|X Coordinate|Y Coordinate|Year|          Updated On|    Latitude|    Longitude|            Location|\n",
      "+--------+-----------+----------+--------------------+----+--------------------+--------------------+--------------------+------+--------+----+--------+----+--------------+--------+------------+------------+----+--------------------+------------+-------------+--------------------+\n",
      "|13210088|   JG423627|2023-08-31|023XX W JACKSON BLVD|1153|  DECEPTIVE PRACTICE|FINANCIAL IDENTIT...|              STREET| false|   false|1225|      12|  27|            28|      11|     1160870|     1898642|2023|09/16/2023 03:41:...|41.877565108| -87.68479102|(41.877565108, -8...|\n",
      "|13210004|   JG422532|2023-07-24|073XX S JEFFERY BLVD|0281|CRIMINAL SEXUAL A...|      NON-AGGRAVATED|           APARTMENT| false|   false| 333|       3|   7|            43|      02|     1190812|     1856743|2023|09/16/2023 03:41:...|  41.7619185|-87.576209245|(41.7619185, -87....|\n",
      "|13210062|   JG423596|2023-08-27|034XX N LAWNDALE AVE|0820|               THEFT|      $500 AND UNDER|           APARTMENT| false|   false|1732|      17|  30|            21|      06|     1151117|     1922554|2023|09/16/2023 03:41:...|41.943378528|  -87.7199738|(41.943378528, -8...|\n",
      "|13210107|   JG411849|2023-09-04|   053XX S HOMAN AVE|1310|     CRIMINAL DAMAGE|         TO PROPERTY|  RESIDENCE - GARAGE| false|   false| 822|       8|  14|            63|      14|     1154617|     1869046|2023|09/16/2023 03:41:...|41.796477414|-87.708540915|(41.796477414, -8...|\n",
      "|13210060|   JG423567|2023-08-15|077XX S SPAULDING...|0810|               THEFT|           OVER $500|RESIDENCE - PORCH...| false|   false| 835|       8|  18|            70|      06|     1155724|     1853097|2023|09/16/2023 03:41:...|41.752688801|-87.704908791|(41.752688801, -8...|\n",
      "|13210120|   JG423499|2023-07-24|     002XX W 75TH ST|1120|  DECEPTIVE PRACTICE|             FORGERY|   CURRENCY EXCHANGE| false|   false| 731|       7|   6|            69|      10|     1175716|     1855233|2023|09/16/2023 03:41:...|41.758126171|-87.631582508|(41.758126171, -8...|\n",
      "|13210071|   JG421086|2023-09-03|   089XX S LOOMIS ST|0890|               THEFT|       FROM BUILDING|           APARTMENT| false|   false|2222|      22|  21|            73|      06|     1168564|     1845472|2023|09/16/2023 03:41:...|41.731497731|-87.658074565|(41.731497731, -8...|\n",
      "|13210035|   JG422370|2023-08-17|     019XX W 71ST ST|0820|               THEFT|      $500 AND UNDER|              STREET| false|   false| 735|       7|  17|            67|      06|     1164749|     1857588|2023|09/16/2023 03:41:...|41.764827083|-87.671709119|(41.764827083, -8...|\n",
      "|13210008|   JG422517|2023-08-24|  031XX S WALLACE ST|1110|  DECEPTIVE PRACTICE|         BOGUS CHECK|   CURRENCY EXCHANGE| false|   false| 915|       9|  11|            60|      11|     1172803|     1884190|2023|09/16/2023 03:41:...|41.837651929|-87.641404086|(41.837651929, -8...|\n",
      "|13210072|   JG422242|2023-08-11|  0000X S ALBANY AVE|1790|OFFENSE INVOLVING...|     CHILD ABDUCTION|           RESIDENCE| false|    true|1124|      11|  28|            27|      26|     1155914|     1899709|2023|09/16/2023 03:41:...|41.880594385|-87.702959421|(41.880594385, -8...|\n",
      "|11662417|   JC232642|2019-04-21|     009XX E 80TH ST|031A|             ROBBERY|     ARMED - HANDGUN|           RESIDENCE| false|   false| 631|       6|   8|            44|      03|     1184044|     1852159|2019|09/14/2023 03:41:...|41.749500329|  -87.6011574|(41.749500329, -8...|\n",
      "|12218064|   JD426642|2020-10-30|     011XX E 82ND ST|0266|CRIMINAL SEXUAL A...|           PREDATORY|           RESIDENCE|  true|    true| 411|       4|   8|            45|      02|     1185144|     1850850|2020|09/14/2023 03:41:...|41.745882542|-87.597167639|(41.745882542, -8...|\n",
      "|12342615|   JE202211|2021-04-17| 081XX S PRAIRIE AVE|0325|             ROBBERY| VEHICULAR HIJACKING|           RESIDENCE|  true|   false| 631|       6|   6|            44|      03|     1179448|     1851073|2021|09/14/2023 03:41:...|41.746626309|-87.618031954|(41.746626309, -8...|\n",
      "|12589893|   JF109865|2022-01-11|087XX S KINGSTON AVE|1565|         SEX OFFENSE|INDECENT SOLICITA...|           RESIDENCE| false|    true| 423|       4|   7|            46|      17|     1194660|     1847481|2022|09/14/2023 03:41:...|41.736409029|-87.562410309|(41.736409029, -8...|\n",
      "|12601676|   JF124024|2022-01-13|031XX W AUGUSTA BLVD|1752|OFFENSE INVOLVING...|AGGRAVATED CRIMIN...|           RESIDENCE| false|    true|1211|      12|  36|            23|      17|     1155171|     1906486|2022|09/14/2023 03:41:...|41.899206068|-87.705505587|(41.899206068, -8...|\n",
      "|12785595|   JF346553|2022-08-05|072XX S UNIVERSIT...|1544|         SEX OFFENSE|SEXUAL EXPLOITATI...|           APARTMENT|  true|   false| 324|       3|   5|            69|      17|     1185135|     1857211|2022|09/14/2023 03:41:...|41.763337967|-87.597001131|(41.763337967, -8...|\n",
      "|12808281|   JF373517|2022-08-14| 055XX W ARDMORE AVE|1562|         SEX OFFENSE|AGGRAVATED CRIMIN...|           RESIDENCE| false|   false|1621|      16|  39|            11|      17|     1138383|     1937953|2022|09/14/2023 03:41:...|41.985875279|-87.766403857|(41.985875279, -8...|\n",
      "|12888104|   JF469015|2022-11-10|      072XX S MAY ST|1477|   WEAPONS VIOLATION|RECKLESS FIREARM ...|              STREET| false|   false| 733|       7|  17|            68|      15|     1169903|     1856822|2022|09/14/2023 03:41:...| 41.76261474|-87.652840463|(41.76261474, -87...|\n",
      "|12990873|   JG161829|2019-08-17|  008XX N KARLOV AVE|1751|OFFENSE INVOLVING...|CRIMINAL SEXUAL A...|           RESIDENCE|  true|    true|1111|      11|  37|            23|      17|     1148899|     1905351|2019|09/14/2023 03:41:...| 41.89621515|-87.728572048|(41.89621515, -87...|\n",
      "|13045102|   JG226663|2023-03-30|  080XX S DREXEL AVE|1544|         SEX OFFENSE|SEXUAL EXPLOITATI...|           APARTMENT| false|    true| 631|       6|   8|            44|      17|     1183631|     1851847|2023|09/14/2023 03:41:...|41.748653803|-87.602680492|(41.748653803, -8...|\n",
      "+--------+-----------+----------+--------------------+----+--------------------+--------------------+--------------------+------+--------+----+--------+----+--------------+--------+------------+------------+----+--------------------+------------+-------------+--------------------+\n",
      "only showing top 20 rows\n",
      "\n"
     ]
    }
   ],
   "source": [
    "y = ['NON-CRIMINAL (SUBJECT SPECIFIED)', 'OTHER OFFENSE', 'STALKING', 'NON-CRIMINAL', 'ARSON']\n",
    "\n",
    "# Remove records with specified crime types\n",
    "df3 = df2.filter(~col(\"Primary Type\").isin(y))\n",
    "\n",
    "# Show the first few rows of the filtered DataFrame\n",
    "df3.show()"
   ]
  },
  {
   "cell_type": "code",
   "execution_count": 63,
   "id": "65291c33",
   "metadata": {},
   "outputs": [
    {
     "data": {
      "text/plain": [
       "2554442"
      ]
     },
     "execution_count": 63,
     "metadata": {},
     "output_type": "execute_result"
    }
   ],
   "source": [
    "df3.count()"
   ]
  },
  {
   "cell_type": "code",
   "execution_count": 64,
   "id": "ad0f06a5",
   "metadata": {},
   "outputs": [
    {
     "name": "stdout",
     "output_type": "stream",
     "text": [
      "+--------------------+\n",
      "|        Primary Type|\n",
      "+--------------------+\n",
      "|OFFENSE INVOLVING...|\n",
      "|CRIMINAL SEXUAL A...|\n",
      "|PUBLIC PEACE VIOL...|\n",
      "|           OBSCENITY|\n",
      "|            GAMBLING|\n",
      "|   CRIMINAL TRESPASS|\n",
      "|             ASSAULT|\n",
      "|LIQUOR LAW VIOLATION|\n",
      "| MOTOR VEHICLE THEFT|\n",
      "|               THEFT|\n",
      "|             BATTERY|\n",
      "|             ROBBERY|\n",
      "|            HOMICIDE|\n",
      "|   HUMAN TRAFFICKING|\n",
      "|        INTIMIDATION|\n",
      "|        PROSTITUTION|\n",
      "|  DECEPTIVE PRACTICE|\n",
      "|CONCEALED CARRY L...|\n",
      "|         SEX OFFENSE|\n",
      "|     CRIMINAL DAMAGE|\n",
      "|           NARCOTICS|\n",
      "|          KIDNAPPING|\n",
      "|            BURGLARY|\n",
      "|   WEAPONS VIOLATION|\n",
      "|INTERFERENCE WITH...|\n",
      "| CRIM SEXUAL ASSAULT|\n",
      "|      NON - CRIMINAL|\n",
      "|    PUBLIC INDECENCY|\n",
      "|OTHER NARCOTIC VI...|\n",
      "|           RITUALISM|\n",
      "+--------------------+\n",
      "\n"
     ]
    }
   ],
   "source": [
    "\n",
    "z=df3.select(\"Primary Type\").distinct()\n",
    "z.show(50)\n"
   ]
  },
  {
   "cell_type": "markdown",
   "id": "0ade2669",
   "metadata": {},
   "source": [
    "<h1>Merging the similar types of dataframes"
   ]
  },
  {
   "cell_type": "code",
   "execution_count": 65,
   "id": "ddbbc33d",
   "metadata": {},
   "outputs": [
    {
     "name": "stdout",
     "output_type": "stream",
     "text": [
      "+--------+-----------+----------+--------------------+----+--------------------+--------------------+--------------------+------+--------+----+--------+----+--------------+--------+------------+------------+----+--------------------+------------+-------------+--------------------+\n",
      "|      ID|Case Number|      Date|               Block|IUCR|        Primary Type|         Description|Location Description|Arrest|Domestic|Beat|District|Ward|Community Area|FBI Code|X Coordinate|Y Coordinate|Year|          Updated On|    Latitude|    Longitude|            Location|\n",
      "+--------+-----------+----------+--------------------+----+--------------------+--------------------+--------------------+------+--------+----+--------+----+--------------+--------+------------+------------+----+--------------------+------------+-------------+--------------------+\n",
      "|13210088|   JG423627|2023-08-31|023XX W JACKSON BLVD|1153|  DECEPTIVE PRACTICE|FINANCIAL IDENTIT...|              STREET| false|   false|1225|      12|  27|            28|      11|     1160870|     1898642|2023|09/16/2023 03:41:...|41.877565108| -87.68479102|(41.877565108, -8...|\n",
      "|13210004|   JG422532|2023-07-24|073XX S JEFFERY BLVD|0281|SEX OFFENSE/PROST...|      NON-AGGRAVATED|           APARTMENT| false|   false| 333|       3|   7|            43|      02|     1190812|     1856743|2023|09/16/2023 03:41:...|  41.7619185|-87.576209245|(41.7619185, -87....|\n",
      "|13210062|   JG423596|2023-08-27|034XX N LAWNDALE AVE|0820|               THEFT|      $500 AND UNDER|           APARTMENT| false|   false|1732|      17|  30|            21|      06|     1151117|     1922554|2023|09/16/2023 03:41:...|41.943378528|  -87.7199738|(41.943378528, -8...|\n",
      "|13210107|   JG411849|2023-09-04|   053XX S HOMAN AVE|1310|     CRIMINAL DAMAGE|         TO PROPERTY|  RESIDENCE - GARAGE| false|   false| 822|       8|  14|            63|      14|     1154617|     1869046|2023|09/16/2023 03:41:...|41.796477414|-87.708540915|(41.796477414, -8...|\n",
      "|13210060|   JG423567|2023-08-15|077XX S SPAULDING...|0810|               THEFT|           OVER $500|RESIDENCE - PORCH...| false|   false| 835|       8|  18|            70|      06|     1155724|     1853097|2023|09/16/2023 03:41:...|41.752688801|-87.704908791|(41.752688801, -8...|\n",
      "|13210120|   JG423499|2023-07-24|     002XX W 75TH ST|1120|  DECEPTIVE PRACTICE|             FORGERY|   CURRENCY EXCHANGE| false|   false| 731|       7|   6|            69|      10|     1175716|     1855233|2023|09/16/2023 03:41:...|41.758126171|-87.631582508|(41.758126171, -8...|\n",
      "|13210071|   JG421086|2023-09-03|   089XX S LOOMIS ST|0890|               THEFT|       FROM BUILDING|           APARTMENT| false|   false|2222|      22|  21|            73|      06|     1168564|     1845472|2023|09/16/2023 03:41:...|41.731497731|-87.658074565|(41.731497731, -8...|\n",
      "|13210035|   JG422370|2023-08-17|     019XX W 71ST ST|0820|               THEFT|      $500 AND UNDER|              STREET| false|   false| 735|       7|  17|            67|      06|     1164749|     1857588|2023|09/16/2023 03:41:...|41.764827083|-87.671709119|(41.764827083, -8...|\n",
      "|13210008|   JG422517|2023-08-24|  031XX S WALLACE ST|1110|  DECEPTIVE PRACTICE|         BOGUS CHECK|   CURRENCY EXCHANGE| false|   false| 915|       9|  11|            60|      11|     1172803|     1884190|2023|09/16/2023 03:41:...|41.837651929|-87.641404086|(41.837651929, -8...|\n",
      "|13210072|   JG422242|2023-08-11|  0000X S ALBANY AVE|1790|OFFENSE INVOLVING...|     CHILD ABDUCTION|           RESIDENCE| false|    true|1124|      11|  28|            27|      26|     1155914|     1899709|2023|09/16/2023 03:41:...|41.880594385|-87.702959421|(41.880594385, -8...|\n",
      "|11662417|   JC232642|2019-04-21|     009XX E 80TH ST|031A|               THEFT|     ARMED - HANDGUN|           RESIDENCE| false|   false| 631|       6|   8|            44|      03|     1184044|     1852159|2019|09/14/2023 03:41:...|41.749500329|  -87.6011574|(41.749500329, -8...|\n",
      "|12218064|   JD426642|2020-10-30|     011XX E 82ND ST|0266|SEX OFFENSE/PROST...|           PREDATORY|           RESIDENCE|  true|    true| 411|       4|   8|            45|      02|     1185144|     1850850|2020|09/14/2023 03:41:...|41.745882542|-87.597167639|(41.745882542, -8...|\n",
      "|12342615|   JE202211|2021-04-17| 081XX S PRAIRIE AVE|0325|               THEFT| VEHICULAR HIJACKING|           RESIDENCE|  true|   false| 631|       6|   6|            44|      03|     1179448|     1851073|2021|09/14/2023 03:41:...|41.746626309|-87.618031954|(41.746626309, -8...|\n",
      "|12589893|   JF109865|2022-01-11|087XX S KINGSTON AVE|1565|SEX OFFENSE/PROST...|INDECENT SOLICITA...|           RESIDENCE| false|    true| 423|       4|   7|            46|      17|     1194660|     1847481|2022|09/14/2023 03:41:...|41.736409029|-87.562410309|(41.736409029, -8...|\n",
      "|12601676|   JF124024|2022-01-13|031XX W AUGUSTA BLVD|1752|OFFENSE INVOLVING...|AGGRAVATED CRIMIN...|           RESIDENCE| false|    true|1211|      12|  36|            23|      17|     1155171|     1906486|2022|09/14/2023 03:41:...|41.899206068|-87.705505587|(41.899206068, -8...|\n",
      "|12785595|   JF346553|2022-08-05|072XX S UNIVERSIT...|1544|SEX OFFENSE/PROST...|SEXUAL EXPLOITATI...|           APARTMENT|  true|   false| 324|       3|   5|            69|      17|     1185135|     1857211|2022|09/14/2023 03:41:...|41.763337967|-87.597001131|(41.763337967, -8...|\n",
      "|12808281|   JF373517|2022-08-14| 055XX W ARDMORE AVE|1562|SEX OFFENSE/PROST...|AGGRAVATED CRIMIN...|           RESIDENCE| false|   false|1621|      16|  39|            11|      17|     1138383|     1937953|2022|09/14/2023 03:41:...|41.985875279|-87.766403857|(41.985875279, -8...|\n",
      "|12888104|   JF469015|2022-11-10|      072XX S MAY ST|1477|   WEAPONS VIOLATION|RECKLESS FIREARM ...|              STREET| false|   false| 733|       7|  17|            68|      15|     1169903|     1856822|2022|09/14/2023 03:41:...| 41.76261474|-87.652840463|(41.76261474, -87...|\n",
      "|12990873|   JG161829|2019-08-17|  008XX N KARLOV AVE|1751|OFFENSE INVOLVING...|CRIMINAL SEXUAL A...|           RESIDENCE|  true|    true|1111|      11|  37|            23|      17|     1148899|     1905351|2019|09/14/2023 03:41:...| 41.89621515|-87.728572048|(41.89621515, -87...|\n",
      "|13045102|   JG226663|2023-03-30|  080XX S DREXEL AVE|1544|SEX OFFENSE/PROST...|SEXUAL EXPLOITATI...|           APARTMENT| false|    true| 631|       6|   8|            44|      17|     1183631|     1851847|2023|09/14/2023 03:41:...|41.748653803|-87.602680492|(41.748653803, -8...|\n",
      "+--------+-----------+----------+--------------------+----+--------------------+--------------------+--------------------+------+--------+----+--------+----+--------------+--------+------------+------------+----+--------------------+------------+-------------+--------------------+\n",
      "only showing top 20 rows\n",
      "\n"
     ]
    }
   ],
   "source": [
    "df4=df3.withColumn(\"Primary Type\", \n",
    "                when(col(\"Primary Type\").isin('SEX OFFENSE', 'PROSTITUTION','CRIMINAL SEXUAL ASSAULT'), \"SEX OFFENSE/PROSTITUTION\")\n",
    "                .otherwise(col(\"Primary Type\")))\n",
    "df5=df4.withColumn(\"Primary Type\", \n",
    "                when(col(\"Primary Type\").isin('MOTOR VEHICLE THEFT', 'THEFT','ROBBERY'), \"THEFT\")\n",
    "                .otherwise(col(\"Primary Type\")))\n",
    "df6=df5.withColumn(\"Primary Type\", \n",
    "                when(col(\"Primary Type\").isin('ASSAULT', 'BATTERY','HOMICIDE'), \"ASSAULT\")\n",
    "                .otherwise(col(\"Primary Type\")))\n",
    "df7=df6.withColumn(\"Primary Type\", \n",
    "                when(col(\"Primary Type\").isin( 'PUBLIC INDECENCY', 'PUBLIC PEACE VIOLATION'), \"public \")\n",
    "                .otherwise(col(\"Primary Type\")))\n",
    "df7.show()"
   ]
  },
  {
   "cell_type": "code",
   "execution_count": 66,
   "id": "376d746f",
   "metadata": {},
   "outputs": [
    {
     "name": "stdout",
     "output_type": "stream",
     "text": [
      "+--------------------+\n",
      "|        Primary Type|\n",
      "+--------------------+\n",
      "|OFFENSE INVOLVING...|\n",
      "|           OBSCENITY|\n",
      "|            GAMBLING|\n",
      "|   CRIMINAL TRESPASS|\n",
      "|             ASSAULT|\n",
      "|LIQUOR LAW VIOLATION|\n",
      "|               THEFT|\n",
      "|SEX OFFENSE/PROST...|\n",
      "|   HUMAN TRAFFICKING|\n",
      "|        INTIMIDATION|\n",
      "|  DECEPTIVE PRACTICE|\n",
      "|CONCEALED CARRY L...|\n",
      "|             public |\n",
      "|     CRIMINAL DAMAGE|\n",
      "|           NARCOTICS|\n",
      "|          KIDNAPPING|\n",
      "|            BURGLARY|\n",
      "|   WEAPONS VIOLATION|\n",
      "|INTERFERENCE WITH...|\n",
      "| CRIM SEXUAL ASSAULT|\n",
      "|      NON - CRIMINAL|\n",
      "|OTHER NARCOTIC VI...|\n",
      "|           RITUALISM|\n",
      "+--------------------+\n",
      "\n"
     ]
    }
   ],
   "source": [
    "\n",
    "final_primarytype=df7.select(\"Primary Type\").distinct()\n",
    "final_primarytype.show(50)\n"
   ]
  },
  {
   "cell_type": "markdown",
   "id": "ed0447e6",
   "metadata": {},
   "source": [
    "<h1>Analysing the data and preseent the results"
   ]
  },
  {
   "cell_type": "code",
   "execution_count": 67,
   "id": "6f4cc455",
   "metadata": {},
   "outputs": [
    {
     "data": {
      "text/plain": [
       "['OFFENSE INVOLVING CHILDREN',\n",
       " 'OBSCENITY',\n",
       " 'GAMBLING',\n",
       " 'CRIMINAL TRESPASS',\n",
       " 'ASSAULT',\n",
       " 'LIQUOR LAW VIOLATION',\n",
       " 'THEFT',\n",
       " 'SEX OFFENSE/PROSTITUTION',\n",
       " 'HUMAN TRAFFICKING',\n",
       " 'INTIMIDATION',\n",
       " 'DECEPTIVE PRACTICE',\n",
       " 'CONCEALED CARRY LICENSE VIOLATION',\n",
       " 'public ',\n",
       " 'CRIMINAL DAMAGE',\n",
       " 'NARCOTICS',\n",
       " 'KIDNAPPING',\n",
       " 'BURGLARY',\n",
       " 'WEAPONS VIOLATION',\n",
       " 'INTERFERENCE WITH PUBLIC OFFICER',\n",
       " 'CRIM SEXUAL ASSAULT',\n",
       " 'NON - CRIMINAL',\n",
       " 'OTHER NARCOTIC VIOLATION',\n",
       " 'RITUALISM']"
      ]
     },
     "execution_count": 67,
     "metadata": {},
     "output_type": "execute_result"
    }
   ],
   "source": [
    "list=[data[0] for data in final_primarytype.select('Primary Type').collect()]\n",
    "list"
   ]
  },
  {
   "cell_type": "markdown",
   "id": "3b681ed7",
   "metadata": {},
   "source": [
    "\n",
    "<h1>find the yearwise trend of crime over the years\n"
   ]
  },
  {
   "cell_type": "code",
   "execution_count": 82,
   "id": "5ecf583b",
   "metadata": {},
   "outputs": [
    {
     "name": "stdout",
     "output_type": "stream",
     "text": [
      "2013\n",
      "[2315, 25, 596, 8135, 72389, 465, 95846, 2698, 1, 134, 13243, 0, 3145, 30848, 34106, 242, 17886, 3245, 1281, 1213, 3, 5, 0]\n",
      "95846\n",
      "6\n",
      "trending crime in 2013 is  THEFT\n",
      "287821\n",
      "2014\n",
      "[2307, 36, 393, 7536, 66729, 395, 81033, 2577, 2, 115, 14855, 15, 2911, 27776, 28906, 220, 14559, 3109, 1398, 1226, 10, 10, 0]\n",
      "81033\n",
      "6\n",
      "trending crime in 2014 is  THEFT\n",
      "256118\n",
      "2015\n",
      "[2074, 42, 310, 6390, 66311, 291, 76330, 2247, 13, 116, 13945, 34, 2428, 28587, 21607, 189, 13101, 3333, 1307, 1217, 20, 5, 0]\n",
      "76330\n",
      "6\n",
      "trending crime in 2015 is  THEFT\n",
      "239897\n",
      "2016\n",
      "[2302, 51, 189, 6295, 69755, 227, 84254, 1823, 11, 135, 17374, 35, 1610, 30931, 13257, 202, 14278, 3449, 934, 1425, 5, 4, 0]\n",
      "84254\n",
      "6\n",
      "trending crime in 2016 is  THEFT\n",
      "248546\n",
      "2017\n",
      "[2172, 79, 191, 6798, 69063, 191, 86790, 1797, 6, 149, 16966, 69, 1506, 28955, 11475, 190, 12946, 4682, 1083, 1405, 0, 11, 0]\n",
      "86790\n",
      "6\n",
      "trending crime in 2017 is  THEFT\n",
      "246524\n",
      "2018\n",
      "[2191, 84, 201, 6881, 70655, 265, 83634, 2080, 12, 167, 17220, 148, 1378, 27698, 12796, 171, 11681, 5444, 1305, 1330, 0, 1, 0]\n",
      "83634\n",
      "6\n",
      "trending crime in 2018 is  THEFT\n",
      "245342\n",
      "2019\n",
      "[2347, 59, 142, 6805, 70578, 232, 78626, 2674, 13, 163, 17255, 217, 1529, 26611, 14996, 172, 9632, 6337, 1544, 908, 0, 6, 0]\n",
      "78626\n",
      "6\n",
      "trending crime in 2019 is  THEFT\n",
      "240846\n",
      "2020\n",
      "[1852, 50, 25, 4148, 60280, 140, 57888, 2222, 5, 156, 15859, 148, 1269, 24659, 7268, 118, 8623, 8417, 654, 75, 0, 6, 1]\n",
      "60280\n",
      "4\n",
      "trending crime in 2020 is  ASSAULT\n",
      "193863\n",
      "2021\n",
      "[1761, 46, 13, 3375, 61282, 183, 57622, 2507, 9, 118, 15027, 169, 598, 24831, 4089, 86, 6573, 8944, 313, 0, 0, 2, 0]\n",
      "61282\n",
      "4\n",
      "trending crime in 2021 is  ASSAULT\n",
      "187548\n",
      "2022\n",
      "[1769, 41, 9, 4189, 62105, 200, 83329, 2892, 13, 175, 14195, 176, 709, 26912, 3966, 115, 7511, 8696, 391, 0, 0, 6, 0]\n",
      "83329\n",
      "6\n",
      "trending crime in 2022 is  THEFT\n",
      "217399\n",
      "2023\n",
      "[1401, 29, 12, 3695, 53425, 143, 75523, 2524, 6, 197, 11731, 163, 689, 23650, 3944, 117, 5781, 7043, 463, 0, 0, 2, 0]\n",
      "75523\n",
      "6\n",
      "trending crime in 2023 is  THEFT\n",
      "190538\n"
     ]
    }
   ],
   "source": [
    "import operator as op\n",
    "sum1=[]\n",
    "for i in range(2013,2024):\n",
    "    u=str(i)\n",
    "    l2=[]\n",
    "    #sum1=[]\n",
    "    print(u)\n",
    "    x=df7.filter(col('Year')==u)\n",
    "    l1=[data[0] for data in x.select('Primary Type').collect()]\n",
    "    for j in list:\n",
    "        a=op.countOf(l1,j)\n",
    "        l2.append(a)\n",
    "    print(l2)\n",
    "    sum_values = 0\n",
    "    for num in l2:\n",
    "        sum_values =sum_values+num\n",
    "    max_value = l2[0]  \n",
    "\n",
    "\n",
    "    for num in l2:\n",
    "        if num > max_value:\n",
    "            max_value = num\n",
    "\n",
    "    print(max_value)\n",
    "    \n",
    "    sum1.append(sum_values)\n",
    "    max_index = l2.index(max_value)\n",
    "    print(max_index)\n",
    "    v=list[max_index]\n",
    "    print(\"trending crime in\",i,'is ',v)\n",
    "    print(sum_values)\n",
    "        "
   ]
  },
  {
   "cell_type": "code",
   "execution_count": 83,
   "id": "80f7d871",
   "metadata": {},
   "outputs": [
    {
     "data": {
      "text/html": [
       "<div>\n",
       "<style scoped>\n",
       "    .dataframe tbody tr th:only-of-type {\n",
       "        vertical-align: middle;\n",
       "    }\n",
       "\n",
       "    .dataframe tbody tr th {\n",
       "        vertical-align: top;\n",
       "    }\n",
       "\n",
       "    .dataframe thead th {\n",
       "        text-align: right;\n",
       "    }\n",
       "</style>\n",
       "<table border=\"1\" class=\"dataframe\">\n",
       "  <thead>\n",
       "    <tr style=\"text-align: right;\">\n",
       "      <th></th>\n",
       "      <th>year</th>\n",
       "      <th>count</th>\n",
       "    </tr>\n",
       "  </thead>\n",
       "  <tbody>\n",
       "    <tr>\n",
       "      <th>0</th>\n",
       "      <td>2013</td>\n",
       "      <td>287821</td>\n",
       "    </tr>\n",
       "    <tr>\n",
       "      <th>1</th>\n",
       "      <td>2014</td>\n",
       "      <td>256118</td>\n",
       "    </tr>\n",
       "    <tr>\n",
       "      <th>2</th>\n",
       "      <td>2015</td>\n",
       "      <td>239897</td>\n",
       "    </tr>\n",
       "    <tr>\n",
       "      <th>3</th>\n",
       "      <td>2016</td>\n",
       "      <td>248546</td>\n",
       "    </tr>\n",
       "    <tr>\n",
       "      <th>4</th>\n",
       "      <td>2017</td>\n",
       "      <td>246524</td>\n",
       "    </tr>\n",
       "    <tr>\n",
       "      <th>5</th>\n",
       "      <td>2018</td>\n",
       "      <td>245342</td>\n",
       "    </tr>\n",
       "    <tr>\n",
       "      <th>6</th>\n",
       "      <td>2019</td>\n",
       "      <td>240846</td>\n",
       "    </tr>\n",
       "    <tr>\n",
       "      <th>7</th>\n",
       "      <td>2020</td>\n",
       "      <td>193863</td>\n",
       "    </tr>\n",
       "    <tr>\n",
       "      <th>8</th>\n",
       "      <td>2021</td>\n",
       "      <td>187548</td>\n",
       "    </tr>\n",
       "    <tr>\n",
       "      <th>9</th>\n",
       "      <td>2022</td>\n",
       "      <td>217399</td>\n",
       "    </tr>\n",
       "    <tr>\n",
       "      <th>10</th>\n",
       "      <td>2023</td>\n",
       "      <td>190538</td>\n",
       "    </tr>\n",
       "  </tbody>\n",
       "</table>\n",
       "</div>"
      ],
      "text/plain": [
       "    year   count\n",
       "0   2013  287821\n",
       "1   2014  256118\n",
       "2   2015  239897\n",
       "3   2016  248546\n",
       "4   2017  246524\n",
       "5   2018  245342\n",
       "6   2019  240846\n",
       "7   2020  193863\n",
       "8   2021  187548\n",
       "9   2022  217399\n",
       "10  2023  190538"
      ]
     },
     "execution_count": 83,
     "metadata": {},
     "output_type": "execute_result"
    }
   ],
   "source": [
    "data0={\n",
    "    'year':[2013,2014,2015,2016,2017,2018,2019,2020,2021,2022,2023],\n",
    "    'count':sum1\n",
    "}\n",
    "df = pd.DataFrame(data0)\n",
    "df"
   ]
  },
  {
   "cell_type": "code",
   "execution_count": 84,
   "id": "1e594bda",
   "metadata": {},
   "outputs": [
    {
     "data": {
      "image/png": "[encoded data removed]",
      "text/plain": [
       "<Figure size 1500x1500 with 1 Axes>"
      ]
     },
     "metadata": {},
     "output_type": "display_data"
    }
   ],
   "source": [
    "plt.figure(figsize=(15, 15))\n",
    "plt.barh(df['year'], df['count'], color='red')\n",
    "plt.xlabel('count')\n",
    "plt.ylabel('year')\n",
    "plt.title('crime per year')\n",
    "          \n",
    "plt.show()"
   ]
  },
  {
   "cell_type": "code",
   "execution_count": 71,
   "id": "01b085d3",
   "metadata": {},
   "outputs": [
    {
     "name": "stdout",
     "output_type": "stream",
     "text": [
      "+--------------------+\n",
      "|                Date|\n",
      "+--------------------+\n",
      "|08/31/2023 12:00:...|\n",
      "|07/24/2023 09:45:...|\n",
      "|08/27/2023 07:00:...|\n",
      "|09/04/2023 09:30:...|\n",
      "|08/15/2023 02:20:...|\n",
      "|07/24/2023 04:09:...|\n",
      "|09/03/2023 10:27:...|\n",
      "|08/17/2023 07:00:...|\n",
      "|08/24/2023 02:27:...|\n",
      "|08/11/2023 11:00:...|\n",
      "|04/21/2019 12:30:...|\n",
      "|10/30/2020 04:30:...|\n",
      "|04/17/2021 03:20:...|\n",
      "|01/11/2022 03:00:...|\n",
      "|01/14/2022 03:55:...|\n",
      "|01/13/2022 04:00:...|\n",
      "|08/05/2022 09:00:...|\n",
      "|08/14/2022 02:00:...|\n",
      "|11/10/2022 03:47:...|\n",
      "|08/17/2019 01:14:...|\n",
      "+--------------------+\n",
      "only showing top 20 rows\n",
      "\n"
     ]
    }
   ],
   "source": [
    "list3=noNulldf.select(\"Date\")\n",
    "list3.show()"
   ]
  },
  {
   "cell_type": "code",
   "execution_count": 75,
   "id": "efd5abf3",
   "metadata": {},
   "outputs": [
    {
     "name": "stdout",
     "output_type": "stream",
     "text": [
      "Row(Hour=0, count=2554442)\n"
     ]
    }
   ],
   "source": [
    "hrs = df7.groupBy(hour(df7[\"Date\"]).alias(\"Hour\")).count().orderBy(\"count\", ascending=False)\n",
    "high_hr = hrs.first()\n",
    "if high_hr==0:\n",
    "    high_hr=12\n",
    "print(high_hr)"
   ]
  },
  {
   "cell_type": "markdown",
   "id": "104bce34",
   "metadata": {},
   "source": [
    "<h1> At 12 am has highest crime records in chicago"
   ]
  },
  {
   "cell_type": "markdown",
   "id": "93bb8ad1",
   "metadata": {},
   "source": [
    "Bar grapgh plot of top ten crimes"
   ]
  },
  {
   "cell_type": "code",
   "execution_count": 76,
   "id": "e1319aa9",
   "metadata": {},
   "outputs": [
    {
     "name": "stdout",
     "output_type": "stream",
     "text": [
      "[22491, 542, 2081, 64247, 722572, 2732, 860875, 26041, 91, 1625, 167670, 1174, 17772, 301458, 156410, 1822, 122571, 62699, 10673, 8799, 38, 58, 1]\n",
      "['OFFENSE INVOLVING CHILDREN', 'OBSCENITY', 'GAMBLING', 'CRIMINAL TRESPASS', 'ASSAULT', 'LIQUOR LAW VIOLATION', 'THEFT', 'SEX OFFENSE/PROSTITUTION', 'HUMAN TRAFFICKING', 'INTIMIDATION', 'DECEPTIVE PRACTICE', 'CONCEALED CARRY LICENSE VIOLATION', 'public ', 'CRIMINAL DAMAGE', 'NARCOTICS', 'KIDNAPPING', 'BURGLARY', 'WEAPONS VIOLATION', 'INTERFERENCE WITH PUBLIC OFFICER', 'CRIM SEXUAL ASSAULT', 'NON - CRIMINAL', 'OTHER NARCOTIC VIOLATION', 'RITUALISM']\n"
     ]
    }
   ],
   "source": [
    "k=[data[0] for data in df7.select('Primary Type').collect()]\n",
    "l3=[]\n",
    "for j in list:\n",
    "    a=op.countOf(k,j)\n",
    "    l3.append(a)\n",
    "print(l3)\n",
    "print(list)    \n",
    "    \n",
    "   "
   ]
  },
  {
   "cell_type": "code",
   "execution_count": 77,
   "id": "979fb986",
   "metadata": {},
   "outputs": [
    {
     "data": {
      "text/html": [
       "<div>\n",
       "<style scoped>\n",
       "    .dataframe tbody tr th:only-of-type {\n",
       "        vertical-align: middle;\n",
       "    }\n",
       "\n",
       "    .dataframe tbody tr th {\n",
       "        vertical-align: top;\n",
       "    }\n",
       "\n",
       "    .dataframe thead th {\n",
       "        text-align: right;\n",
       "    }\n",
       "</style>\n",
       "<table border=\"1\" class=\"dataframe\">\n",
       "  <thead>\n",
       "    <tr style=\"text-align: right;\">\n",
       "      <th></th>\n",
       "      <th>crimename</th>\n",
       "      <th>count</th>\n",
       "    </tr>\n",
       "  </thead>\n",
       "  <tbody>\n",
       "    <tr>\n",
       "      <th>0</th>\n",
       "      <td>OFFENSE INVOLVING CHILDREN</td>\n",
       "      <td>22491</td>\n",
       "    </tr>\n",
       "    <tr>\n",
       "      <th>1</th>\n",
       "      <td>OBSCENITY</td>\n",
       "      <td>542</td>\n",
       "    </tr>\n",
       "    <tr>\n",
       "      <th>2</th>\n",
       "      <td>GAMBLING</td>\n",
       "      <td>2081</td>\n",
       "    </tr>\n",
       "    <tr>\n",
       "      <th>3</th>\n",
       "      <td>CRIMINAL TRESPASS</td>\n",
       "      <td>64247</td>\n",
       "    </tr>\n",
       "    <tr>\n",
       "      <th>4</th>\n",
       "      <td>ASSAULT</td>\n",
       "      <td>722572</td>\n",
       "    </tr>\n",
       "    <tr>\n",
       "      <th>5</th>\n",
       "      <td>LIQUOR LAW VIOLATION</td>\n",
       "      <td>2732</td>\n",
       "    </tr>\n",
       "    <tr>\n",
       "      <th>6</th>\n",
       "      <td>THEFT</td>\n",
       "      <td>860875</td>\n",
       "    </tr>\n",
       "    <tr>\n",
       "      <th>7</th>\n",
       "      <td>SEX OFFENSE/PROSTITUTION</td>\n",
       "      <td>26041</td>\n",
       "    </tr>\n",
       "    <tr>\n",
       "      <th>8</th>\n",
       "      <td>HUMAN TRAFFICKING</td>\n",
       "      <td>91</td>\n",
       "    </tr>\n",
       "    <tr>\n",
       "      <th>9</th>\n",
       "      <td>INTIMIDATION</td>\n",
       "      <td>1625</td>\n",
       "    </tr>\n",
       "    <tr>\n",
       "      <th>10</th>\n",
       "      <td>DECEPTIVE PRACTICE</td>\n",
       "      <td>167670</td>\n",
       "    </tr>\n",
       "    <tr>\n",
       "      <th>11</th>\n",
       "      <td>CONCEALED CARRY LICENSE VIOLATION</td>\n",
       "      <td>1174</td>\n",
       "    </tr>\n",
       "    <tr>\n",
       "      <th>12</th>\n",
       "      <td>public</td>\n",
       "      <td>17772</td>\n",
       "    </tr>\n",
       "    <tr>\n",
       "      <th>13</th>\n",
       "      <td>CRIMINAL DAMAGE</td>\n",
       "      <td>301458</td>\n",
       "    </tr>\n",
       "    <tr>\n",
       "      <th>14</th>\n",
       "      <td>NARCOTICS</td>\n",
       "      <td>156410</td>\n",
       "    </tr>\n",
       "    <tr>\n",
       "      <th>15</th>\n",
       "      <td>KIDNAPPING</td>\n",
       "      <td>1822</td>\n",
       "    </tr>\n",
       "    <tr>\n",
       "      <th>16</th>\n",
       "      <td>BURGLARY</td>\n",
       "      <td>122571</td>\n",
       "    </tr>\n",
       "    <tr>\n",
       "      <th>17</th>\n",
       "      <td>WEAPONS VIOLATION</td>\n",
       "      <td>62699</td>\n",
       "    </tr>\n",
       "    <tr>\n",
       "      <th>18</th>\n",
       "      <td>INTERFERENCE WITH PUBLIC OFFICER</td>\n",
       "      <td>10673</td>\n",
       "    </tr>\n",
       "    <tr>\n",
       "      <th>19</th>\n",
       "      <td>CRIM SEXUAL ASSAULT</td>\n",
       "      <td>8799</td>\n",
       "    </tr>\n",
       "    <tr>\n",
       "      <th>20</th>\n",
       "      <td>NON - CRIMINAL</td>\n",
       "      <td>38</td>\n",
       "    </tr>\n",
       "    <tr>\n",
       "      <th>21</th>\n",
       "      <td>OTHER NARCOTIC VIOLATION</td>\n",
       "      <td>58</td>\n",
       "    </tr>\n",
       "    <tr>\n",
       "      <th>22</th>\n",
       "      <td>RITUALISM</td>\n",
       "      <td>1</td>\n",
       "    </tr>\n",
       "  </tbody>\n",
       "</table>\n",
       "</div>"
      ],
      "text/plain": [
       "                            crimename   count\n",
       "0          OFFENSE INVOLVING CHILDREN   22491\n",
       "1                           OBSCENITY     542\n",
       "2                            GAMBLING    2081\n",
       "3                   CRIMINAL TRESPASS   64247\n",
       "4                             ASSAULT  722572\n",
       "5                LIQUOR LAW VIOLATION    2732\n",
       "6                               THEFT  860875\n",
       "7            SEX OFFENSE/PROSTITUTION   26041\n",
       "8                   HUMAN TRAFFICKING      91\n",
       "9                        INTIMIDATION    1625\n",
       "10                 DECEPTIVE PRACTICE  167670\n",
       "11  CONCEALED CARRY LICENSE VIOLATION    1174\n",
       "12                            public    17772\n",
       "13                    CRIMINAL DAMAGE  301458\n",
       "14                          NARCOTICS  156410\n",
       "15                         KIDNAPPING    1822\n",
       "16                           BURGLARY  122571\n",
       "17                  WEAPONS VIOLATION   62699\n",
       "18   INTERFERENCE WITH PUBLIC OFFICER   10673\n",
       "19                CRIM SEXUAL ASSAULT    8799\n",
       "20                     NON - CRIMINAL      38\n",
       "21           OTHER NARCOTIC VIOLATION      58\n",
       "22                          RITUALISM       1"
      ]
     },
     "execution_count": 77,
     "metadata": {},
     "output_type": "execute_result"
    }
   ],
   "source": [
    "\n",
    "data={\n",
    "    'crimename':list,\n",
    "    'count':l3\n",
    "}\n",
    "df = pd.DataFrame(data)\n",
    "df\n"
   ]
  },
  {
   "cell_type": "code",
   "execution_count": 78,
   "id": "c8901167",
   "metadata": {},
   "outputs": [
    {
     "data": {
      "image/png": "[encoded data removed]",
      "text/plain": [
       "<Figure size 1500x1500 with 1 Axes>"
      ]
     },
     "metadata": {},
     "output_type": "display_data"
    }
   ],
   "source": [
    "top_crimes = df.nlargest(10, 'count')\n",
    "\n",
    "\n",
    "plt.figure(figsize=(15, 15))\n",
    "plt.barh(top_crimes['crimename'], top_crimes['count'], color='red')\n",
    "plt.xlabel('count')\n",
    "plt.ylabel('Crimename')\n",
    "plt.title('Top Ten Crimes')\n",
    "plt.gca().invert_yaxis()  # Invert y-axis to display the highest count on top\n",
    "plt.show()"
   ]
  },
  {
   "cell_type": "code",
   "execution_count": null,
   "id": "3ca2e09e",
   "metadata": {},
   "outputs": [],
   "source": [
    "\n",
    "spark.stop()\n"
   ]
  },
  {
   "cell_type": "code",
   "execution_count": null,
   "id": "fd58c8f2",
   "metadata": {},
   "outputs": [],
   "source": []
  }
 ],
 "metadata": {
  "kernelspec": {
   "display_name": "Python 3 (ipykernel)",
   "language": "python",
   "name": "python3"
  },
  "language_info": {
   "codemirror_mode": {
    "name": "ipython",
    "version": 3
   },
   "file_extension": ".py",
   "mimetype": "text/x-python",
   "name": "python",
   "nbconvert_exporter": "python",
   "pygments_lexer": "ipython3",
   "version": "3.9.13"
  }
 },
 "nbformat": 4,
 "nbformat_minor": 5
}
